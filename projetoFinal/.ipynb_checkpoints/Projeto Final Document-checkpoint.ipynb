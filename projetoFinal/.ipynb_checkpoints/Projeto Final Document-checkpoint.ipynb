{
 "cells": [
  {
   "cell_type": "markdown",
   "id": "961f1266-b598-4823-b205-ea276ec842dc",
   "metadata": {},
   "source": [
    "# ALUNOS: \n",
    "\n",
    "- Aluno 1:\n",
    "- Aluno 2:\n"
   ]
  },
  {
   "cell_type": "markdown",
   "id": "6a0cfd35-cb31-474a-a4a5-3b13f0f289e3",
   "metadata": {
    "tags": []
   },
   "source": [
    "# CIÊNCIA DE DADOS\n",
    "\n",
    "## Etapas previstas para realizar Análise Exploratória dos Dados:\n",
    "- Importar as bibliotecas necessárias \n",
    "- Separar as variáveis de input (independentes) e o target (alvo, objetivo)\n",
    "- Separar a base em treino e teste\n",
    "- Definir os algoritmos a serem testados\n",
    "- Criar o classificador\n",
    "- Treinar o modelo com a base de treino\n",
    "- Avaliar o r2\n",
    "- Predizer o modelo com a base de teste\n",
    "- Avaliar os resultados obtidos\n",
    "- Comparar os modelos\n",
    "- Apresentar os resultados\n",
    "\n",
    "## Análise de Perfil de risco de Beneficiários\n",
    "\n",
    "O desafio consiste na **análise de perfil de risco de beneficiários com predição, analise de custo evitado e alertas de possíveis candidatos a doenças crônicas**, segundo a Portaria nº 483, de 1º de abril de 2014, as doenças crônicas são aquelas que apresentam início gradual, com duração longa ou incerta, que, em geral, apresentam múltiplas causas e cujo tratamento envolva mudanças de estilo de vida, em um processo de cuidado contínuo. Segundo a OMS as principais doenças crônicas não transmissíveis, (DCNT), um exemplo são:\n",
    "- Doenças cerebrovasculares\n",
    "- Doenças cardiovasculares\n",
    "- Diabetes mellitus\n",
    "- Doenças respiratórias crônicas (asma)\n",
    "- Neoplasias (câncer)\n",
    "- Obesidade\n",
    "- Hipertensão\n",
    "\n",
    "Na Unimed Ponta Grossa, temos o programa de acompanhamento linha de cuidado, em que os beneficiários identificados com as DCNT são acompanhados.\n",
    "\n",
    "Para as análises e ETLs serão disponibilizadas informações referentes a utilização do plano de saúde por todos os beneficiários, procedimentos executados, dados do perfil de usuário, entradas em pronto atendimento e internação (em uma base separada para ser relacionada por id de pessoa). Também serão indicados os pacientes que já possuem diagnóstico de DCNT e já são acompanhados pela equipe de linha e cuidado e o tempo de acompanhamento. \n",
    "\n",
    "O **objetivo** é construir um modelo capaz calcular o custo evitado dos pacientes que estão no programa, identificar pacientes com maior probabilidade de desenvolver DCTNs ou que já possam estar com alguma DCNTs e não fazem parte da nossa linha de cuidado, com base em seus perfis e históricos médicos.\n",
    "\n",
    "Resultados Esperados:\n",
    "- Tratamento das informações\n",
    "- Relacionamento entre o Datasets\n",
    "- Identificação de padrões para cada grupo\n",
    "- Alertas de possíveis pacientes com DCNTs\n",
    "- Predição de possíveis casos:\n",
    "- Resultado de custo Evitado (custo do paciente antes de entrar no programa e após a entrada no programa)\n",
    "- Predição de custo evitado de pacientes que ainda não fazem parte do programa\n",
    "Bônus: outras analises não indicadas acima\n",
    "**Obs: na analise de custo evitado, levar em conta a correção monetária dos anos anteriores\n",
    " \n",
    "Dados Gerais\n",
    "- ID de usuário\n",
    "- Data de nascimento\n",
    "- Sexo\n",
    "- Peso\n",
    "- Número de Gestações\n",
    "- Grau de dependência (Se Titular)\n",
    "- Contratante\n",
    "- Tipo de Plano\n",
    "- Procedimentos Realizados\n",
    "- Data do procedimento\n",
    "- Especialidade do executante\n",
    "- Especialidade do solicitante\n",
    "- Paciente faz parte da linha de cuidado\n",
    "- Programa que o paciente faz parte\n",
    "\n",
    "Dados de PA e Internação (somente Beneficiários):\n",
    "- ID do atendimento\n",
    "- Data/hora da entrada\n",
    "- Procedimento principal do atendimento\n",
    "- CID\n",
    "- Queixa\n",
    "- Observação\n",
    "- Clínica (tipo de atendimento)\n",
    "- Especialidade Médico Responsável\n",
    "- Classificação de Risco (Manchester)\n",
    "- Data/hora da Internação\n",
    "- Motivo da Alta\n",
    "- Data da alta"
   ]
  },
  {
   "cell_type": "markdown",
   "id": "b07ea1b6-676d-485f-90de-2dc5cd14e80d",
   "metadata": {},
   "source": [
    "# Importar e visualizar a base"
   ]
  },
  {
   "cell_type": "markdown",
   "id": "6d30f96b-5abc-45d6-b548-42054159a092",
   "metadata": {},
   "source": [
    "### Coleta e Descrição dos Dados"
   ]
  },
  {
   "cell_type": "code",
   "execution_count": 1,
   "id": "5b8a722b-408b-469d-bec7-31d7f91bbd5b",
   "metadata": {
    "tags": []
   },
   "outputs": [
    {
     "name": "stdout",
     "output_type": "stream",
     "text": [
      "Bibliotecas importadas com sucesso!\n"
     ]
    }
   ],
   "source": [
    "# Importar as bibliotecas necessárias para solucionar o problema\n",
    "import pandas as pd\n",
    "import numpy as np\n",
    "import matplotlib.pyplot as plt\n",
    "import seaborn as sns\n",
    "from sklearn.model_selection import train_test_split\n",
    "from sklearn.preprocessing import StandardScaler\n",
    "import warnings\n",
    "warnings.filterwarnings('ignore')\n",
    "\n",
    "# Bibliotecas de Modelagem\n",
    "from sklearn.linear_model import LogisticRegression, LinearRegression\n",
    "from sklearn.ensemble import RandomForestClassifier, RandomForestRegressor\n",
    "from sklearn.svm import SVC\n",
    "from sklearn.metrics import classification_report, confusion_matrix, accuracy_score, recall_score, precision_score, f1_score\n",
    "from sklearn.metrics import r2_score, mean_absolute_error\n",
    "\n",
    "print(\"Bibliotecas importadas com sucesso!\")"
   ]
  },
  {
   "cell_type": "code",
   "execution_count": 2,
   "id": "0902dd74-d4e1-4277-9006-6807017d9cbf",
   "metadata": {
    "tags": []
   },
   "outputs": [
    {
     "name": "stdout",
     "output_type": "stream",
     "text": [
      "Iniciando o processo de preparação de dados...\n",
      "Carregando arquivos...\n",
      "Dados carregados com sucesso!\n",
      "\n",
      "Identificando procedimentos e pacientes de DCNT...\n",
      "Encontrados 1814 beneficiários únicos com histórico de DCNT.\n",
      "\n",
      "Construindo o DataFrame final por paciente...\n",
      "DataFrame final criado com sucesso!\n"
     ]
    }
   ],
   "source": [
    "# ===================================================================\n",
    "# VERSÃO FINAL E DEFINITIVA - PREPARAÇÃO DE DADOS COMPLETA\n",
    "# ===================================================================\n",
    "\n",
    "import pandas as pd\n",
    "import numpy as np\n",
    "\n",
    "# --- PASSO 1: Carregar todas as 5 tabelas essenciais ---\n",
    "print(\"Carregando todas as fontes de dados...\")\n",
    "\n",
    "# ATENÇÃO: Verifique se os caminhos e nomes das abas estão corretos para cada arquivo.\n",
    "try:\n",
    "    # A tabela que conecta um atendimento a um diagnóstico (CID)\n",
    "    df_diagnosticos_cid = pd.read_csv('Dados/Hospital/atendimento_hgu_cid.xlsx')\n",
    "\n",
    "    # A tabela que conecta um atendimento a um paciente (A PONTE)\n",
    "    df_atendimentos_paciente = pd.read_csv('Dados/Hospital/atendimento_hgu.xlsx')\n",
    "\n",
    "    # O dicionário que nos diz o que cada CID significa\n",
    "    df_cid_dicionario = pd.read_csv('Dados/Linha de cuidado/cid_linha_cuidado.xlsx')\n",
    "\n",
    "    # A tabela de custos por procedimento para cada paciente\n",
    "    # ATENÇÃO: Este é o seu arquivo grande, o carregamento pode demorar.\n",
    "    df_custos = pd.read_csv('Dados/Plano de Saúde/beneficiario_custo_procedimento_plano_de_saude.xlsx') # Supondo que seja um CSV, se for Excel, use pd.read_excel\n",
    "\n",
    "    # A tabela com as informações demográficas dos pacientes\n",
    "    df_benef_info = pd.read_csv('Dados/Plano de Saúde/beneficiarios.xlsx')\n",
    "\n",
    "    print(\"Todos os arquivos foram carregados com sucesso!\")\n",
    "\n",
    "except FileNotFoundError as e:\n",
    "    print(f\"ERRO: Arquivo não encontrado. Verifique o nome e o caminho. Detalhe: {e}\")\n",
    "    raise\n",
    "except Exception as e:\n",
    "    print(f\"Ocorreu um erro inesperado durante o carregamento: {e}\")\n",
    "    raise\n",
    "\n",
    "# --- PASSO 2: Conectar o diagnóstico ao paciente (o merge crucial) ---\n",
    "print(\"\\nConectando diagnósticos aos pacientes...\")\n",
    "\n",
    "# ATENÇÃO: Verifique se os nomes das colunas de join ('nr_atendimento', 'id_beneficiario') estão corretos!\n",
    "# Vamos assumir que em 'df_atendimentos_paciente' a coluna de paciente se chama 'id_pessoa'.\n",
    "df_atendimentos_paciente.rename(columns={'id_pessoa': 'id_beneficiario'}, inplace=True)\n",
    "\n",
    "# Unimos as duas tabelas de atendimento para saber qual paciente teve qual diagnóstico\n",
    "df_diagnosticos_completos = pd.merge(df_diagnosticos_cid, df_atendimentos_paciente[['nr_atendimento', 'id_beneficiario']], on='nr_atendimento', how='left')\n",
    "df_diagnosticos_completos.dropna(subset=['id_beneficiario'], inplace=True) # Remove diagnósticos sem paciente\n",
    "df_diagnosticos_completos['id_beneficiario'] = df_diagnosticos_completos['id_beneficiario'].astype(int)\n",
    "\n",
    "\n",
    "# --- PASSO 3: Identificar os diagnósticos que são de DCNT ---\n",
    "print(\"\\nIdentificando os diagnósticos que são de DCNT...\")\n",
    "\n",
    "# Renomear a coluna de CID no dicionário para o merge\n",
    "df_cid_dicionario.rename(columns={'cd_cid': 'cd_doenca'}, inplace=True)\n",
    "\n",
    "# Unimos a tabela de diagnósticos com o dicionário para obter a 'ds_linha_cuidado'\n",
    "df_diagnosticos_completos = pd.merge(df_diagnosticos_completos, df_cid_dicionario[['cd_doenca', 'ds_linha_cuidado']], on='cd_doenca', how='left')\n",
    "\n",
    "# Filtramos apenas os diagnósticos que pertencem a uma linha de cuidado (ou seja, são DCNT)\n",
    "df_diagnosticos_dcnt_final = df_diagnosticos_completos.dropna(subset=['ds_linha_cuidado'])\n",
    "\n",
    "\n",
    "# --- PASSO 4: Obter a lista final de pacientes com DCNT e a data do primeiro diagnóstico ---\n",
    "print(\"\\nObtendo a lista final de pacientes e a data do primeiro diagnóstico...\")\n",
    "df_diagnosticos_dcnt_final['dt_diagnostico'] = pd.to_datetime(df_diagnosticos_dcnt_final['dt_diagnostico'], errors='coerce')\n",
    "\n",
    "# Para cada paciente, pegamos a data do primeiro diagnóstico de DCNT\n",
    "df_primeiro_diag = df_diagnosticos_dcnt_final.groupby('id_beneficiario')['dt_diagnostico'].min().reset_index()\n",
    "df_primeiro_diag.rename(columns={'dt_diagnostico': 'dt_primeiro_diagnostico'}, inplace=True)\n",
    "\n",
    "# Lista final de IDs de beneficiários com DCNT\n",
    "benef_com_dcnt_ids = set(df_primeiro_diag['id_beneficiario'])\n",
    "print(f\"Encontrados {len(benef_com_dcnt_ids)} pacientes com diagnóstico oficial de DCNT.\")\n",
    "\n",
    "\n",
    "# --- PASSO 5: Construir o DataFrame agregado final para a modelagem ---\n",
    "print(\"\\nConstruindo o DataFrame agregado final...\")\n",
    "df_agg = df_custos.groupby('id_beneficiario').agg(\n",
    "    custo_total=('vl_item', 'sum'),\n",
    "    n_procedimentos=('id_item', 'count')\n",
    ").reset_index()\n",
    "\n",
    "# Merge com informações demográficas\n",
    "df_final = pd.merge(df_agg, df_benef_info, on='id_beneficiario', how='left')\n",
    "\n",
    "# Merge com a data do primeiro diagnóstico (para quem tem)\n",
    "df_final = pd.merge(df_final, df_primeiro_diag, on='id_beneficiario', how='left')\n",
    "\n",
    "# Criar a flag 'tem_dcnt' final e precisa\n",
    "df_final['tem_dcnt'] = df_final['id_beneficiario'].apply(lambda x: 1 if x in benef_com_dcnt_ids else 0)\n",
    "\n",
    "# Limpeza final\n",
    "df_final.dropna(subset=['qt_idade', 'ds_sexo'], inplace=True)\n",
    "print(\"\\nDataFrame final pronto para modelagem!\")\n",
    "print(\"--- AMOSTRA DO DATAFRAME FINAL ---\")\n",
    "print(df_final.head())\n",
    "print(f\"\\nShape final: {df_final.shape}\")\n",
    "print(f\"\\nPacientes com DCNT na base final: {df_final['tem_dcnt'].sum()}\")"
   ]
  },
  {
   "cell_type": "code",
   "execution_count": 3,
   "id": "c78a7f3d-e5aa-4d0c-9d08-f2f7d711b03c",
   "metadata": {},
   "outputs": [
    {
     "name": "stdout",
     "output_type": "stream",
     "text": [
      "--- AMOSTRA DO DATAFRAME FINAL ---\n",
      "   id_beneficiario  custo_total  n_procedimentos  tem_dcnt  nr_contrato  \\\n",
      "0           135984      1137.85               32         0     181305.0   \n",
      "1           135988       125.00                1         0    1821046.0   \n",
      "2           135989       567.66                6         0    1821046.0   \n",
      "3           135990      2405.41               36         0     663020.0   \n",
      "4           135991       125.00                1         0     663020.0   \n",
      "\n",
      "   id_plano                                           ds_plano  \\\n",
      "0     157.0                             UNIPLAN BASICO + OPC 2   \n",
      "1     246.0                                     UNIPLAN BASICO   \n",
      "2     251.0                             UNIPLAN BASICO + OPC 2   \n",
      "3       8.0  INDIVIDUAL/FAMILIAR AMBULATORIAL + HOSPITALAR ...   \n",
      "4       8.0  INDIVIDUAL/FAMILIAR AMBULATORIAL + HOSPITALAR ...   \n",
      "\n",
      "  ds_formacao_preco  id_familia  qt_idade    ds_sexo ds_estado_civil  \\\n",
      "0  Pré-estabelecido       135.0      60.0   Feminino          Casado   \n",
      "1  Pré-estabelecido       136.0      57.0  Masculino          Casado   \n",
      "2  Pré-estabelecido       136.0      60.0   Feminino          Casado   \n",
      "3  Pré-estabelecido        20.0      72.0  Masculino          Casado   \n",
      "4  Pré-estabelecido        20.0      74.0   Feminino          Casado   \n",
      "\n",
      "  ds_parentesco  \n",
      "0       Cônjuge  \n",
      "1       Titular  \n",
      "2       Cônjuge  \n",
      "3       Titular  \n",
      "4       Cônjuge  \n",
      "\n",
      "Shape final: (33416, 13)\n",
      "\n",
      "Distribuição da variável alvo 'tem_dcnt':\n",
      "tem_dcnt\n",
      "0    0.982553\n",
      "1    0.017447\n",
      "Name: proportion, dtype: float64\n"
     ]
    }
   ],
   "source": [
    "# Visualizar as bases\n",
    "print(\"--- AMOSTRA DO DATAFRAME FINAL ---\")\n",
    "print(df_final.head())\n",
    "print(f\"\\nShape final: {df_final.shape}\")\n",
    "print(\"\\nDistribuição da variável alvo 'tem_dcnt':\")\n",
    "print(df_final['tem_dcnt'].value_counts(normalize=True))"
   ]
  },
  {
   "cell_type": "markdown",
   "id": "6fe58264-19d2-4746-9180-8e3576617c37",
   "metadata": {},
   "source": [
    "## Visualizando um resumo das informações\n"
   ]
  },
  {
   "cell_type": "code",
   "execution_count": 4,
   "id": "31c28438-d4ee-4905-b631-c3fc3fe0f791",
   "metadata": {
    "tags": []
   },
   "outputs": [],
   "source": [
    "# Verificando o domínio dos dados\n"
   ]
  },
  {
   "cell_type": "markdown",
   "id": "37c23697-0887-46ea-8d5d-f412a0765b93",
   "metadata": {},
   "source": [
    "# **Conclusão: identifique quais colunas (variáveis) seriam utilizadas em um modelo de aprendizagem de máquina**\n",
    "## **Relevantes para Previsão** obtidas após a realização da análise exploratória\n"
   ]
  },
  {
   "cell_type": "code",
   "execution_count": 5,
   "id": "7a956d89-ad13-46fa-9a1d-d8432681e765",
   "metadata": {},
   "outputs": [
    {
     "name": "stdout",
     "output_type": "stream",
     "text": [
      "Features selecionadas para o modelo de classificação: ['qt_idade', 'ds_sexo', 'custo_total', 'n_procedimentos']\n",
      "\n",
      "Colunas não utilizadas diretamente no modelo (algumas foram usadas no pré-processamento):\n",
      "['ds_estado_civil', 'ds_formacao_preco', 'ds_parentesco', 'ds_plano', 'id_beneficiario', 'id_familia', 'id_plano', 'nr_contrato']\n"
     ]
    }
   ],
   "source": [
    "# Para a célula \"Apresente as colunas a serem utilizadas\"\n",
    "features_usadas = ['qt_idade', 'ds_sexo', 'custo_total', 'n_procedimentos']\n",
    "print(\"Features selecionadas para o modelo de classificação:\", features_usadas)\n",
    "\n",
    "# Para a célula \"Apresente as colunas eliminadas\"\n",
    "colunas_todas = set(df_final.columns)\n",
    "colunas_usadas_set = set(features_usadas)\n",
    "colunas_usadas_set.add('tem_dcnt') # Adicionar o target\n",
    "colunas_eliminadas = colunas_todas - colunas_usadas_set\n",
    "print(\"\\nColunas não utilizadas diretamente no modelo (algumas foram usadas no pré-processamento):\")\n",
    "print(sorted(list(colunas_eliminadas)))"
   ]
  },
  {
   "cell_type": "markdown",
   "id": "6abe99ec-7ba3-4357-9f6b-725619dd74bf",
   "metadata": {},
   "source": [
    "# PROJETO FINAL DE CIÊNCIA DE DADOS\n",
    "\n",
    "Resultados Esperados:\n",
    "- Tratamento das informações\n",
    "- Relacionamento entre o Datasets\n",
    "- Identificação de padrões para cada grupo\n",
    "- Alertas de possíveis pacientes com DCNTs\n",
    "- Predição de possíveis casos:\n",
    "- Resultado de custo Evitado (custo do paciente antes de entrar no programa e após a entrada no programa)\n",
    "- Predição de custo evitado de pacientes que ainda não fazem parte do programa\n",
    "Bônus: outras analises não indicadas acima\n",
    "**Obs: na analise de custo evitado, levar em conta a correção monetária dos anos anteriores\n"
   ]
  },
  {
   "cell_type": "markdown",
   "id": "0c38e392-9532-4709-aca8-930a4ebe3c4d",
   "metadata": {},
   "source": [
    "## Aprendizado de Máquina\n",
    "\n",
    "- Definir 3 algorítmos de aprendizado de máquina a ser testado no Desafio"
   ]
  },
  {
   "cell_type": "code",
   "execution_count": 6,
   "id": "db29e1b8-ce67-4fca-82d8-8a7081353c10",
   "metadata": {},
   "outputs": [
    {
     "name": "stdout",
     "output_type": "stream",
     "text": [
      "Variáveis X (features) e y (target) definidas.\n",
      "Shape de X: (33416, 4)\n",
      "Shape de y: (33416,)\n"
     ]
    }
   ],
   "source": [
    "# Definir as variáveis de input e a target\n",
    "df_model = df_final.copy()\n",
    "df_model['ds_sexo'] = df_model['ds_sexo'].apply(lambda x: 1 if x == 'Masculino' else 0)\n",
    "\n",
    "features = ['qt_idade', 'ds_sexo', 'custo_total', 'n_procedimentos']\n",
    "target = 'tem_dcnt'\n",
    "\n",
    "X = df_model[features]\n",
    "y = df_model[target]\n",
    "\n",
    "print(\"Variáveis X (features) e y (target) definidas.\")\n",
    "print(\"Shape de X:\", X.shape)\n",
    "print(\"Shape de y:\", y.shape)"
   ]
  },
  {
   "cell_type": "code",
   "execution_count": 7,
   "id": "c8ed8553-8ba5-474b-9c73-3b9bc4f75efc",
   "metadata": {},
   "outputs": [
    {
     "name": "stdout",
     "output_type": "stream",
     "text": [
      "Dados divididos em treino e teste.\n",
      "Treino: 23391 amostras\n",
      "Teste: 10025 amostras\n"
     ]
    }
   ],
   "source": [
    "# Dividir a base de dados em treino e teste\n",
    "X_train, X_test, y_train, y_test = train_test_split(X, y, test_size=0.3, random_state=42, stratify=y)\n",
    "\n",
    "print(\"Dados divididos em treino e teste.\")\n",
    "print(f\"Treino: {X_train.shape[0]} amostras\")\n",
    "print(f\"Teste: {X_test.shape[0]} amostras\")"
   ]
  },
  {
   "cell_type": "markdown",
   "id": "18c3c4c0-70da-444b-98af-3f27f6ab41d9",
   "metadata": {},
   "source": [
    "## Treinar, Predizer e Avaliar os Modelos\n",
    "\n",
    "### Primeiro algoritmo"
   ]
  },
  {
   "cell_type": "code",
   "execution_count": 8,
   "id": "2f8232c1-9594-4011-a3ee-b3ab1eae8252",
   "metadata": {},
   "outputs": [],
   "source": [
    "# Criar o classificador\n",
    "rf_model = RandomForestClassifier(n_estimators=100, random_state=42, class_weight='balanced', n_jobs=-1)"
   ]
  },
  {
   "cell_type": "code",
   "execution_count": 9,
   "id": "af457550-b94d-4b56-8baa-e3bf23b49339",
   "metadata": {},
   "outputs": [
    {
     "name": "stdout",
     "output_type": "stream",
     "text": [
      "Treinando o Random Forest...\n",
      "Treinamento concluído.\n"
     ]
    }
   ],
   "source": [
    "# Treinar o modelo\n",
    "print(\"Treinando o Random Forest...\")\n",
    "rf_model.fit(X_train, y_train)\n",
    "print(\"Treinamento concluído.\")"
   ]
  },
  {
   "cell_type": "code",
   "execution_count": 10,
   "id": "a9542de1-a156-4b23-99fb-b291b600a530",
   "metadata": {},
   "outputs": [],
   "source": [
    "# Predizer o modelo\n",
    "rf_pred = rf_model.predict(X_test)"
   ]
  },
  {
   "cell_type": "code",
   "execution_count": 11,
   "id": "65e94d9f-f891-4d24-ae0f-8e83412fb08e",
   "metadata": {},
   "outputs": [
    {
     "name": "stdout",
     "output_type": "stream",
     "text": [
      "\n",
      "--- Resultados do Random Forest ---\n",
      "Acurácia: 0.9822\n",
      "\n",
      "Relatório de Classificação:\n",
      "              precision    recall  f1-score   support\n",
      "\n",
      "           0       0.99      1.00      0.99      9850\n",
      "           1       0.48      0.19      0.28       175\n",
      "\n",
      "    accuracy                           0.98     10025\n",
      "   macro avg       0.73      0.60      0.63     10025\n",
      "weighted avg       0.98      0.98      0.98     10025\n",
      "\n"
     ]
    },
    {
     "data": {
      "image/png": "[encoded data removed]",
      "text/plain": [
       "<Figure size 640x480 with 2 Axes>"
      ]
     },
     "metadata": {},
     "output_type": "display_data"
    }
   ],
   "source": [
    "# Avaliar o modelo\n",
    "print(\"\\n--- Resultados do Random Forest ---\")\n",
    "rf_accuracy = accuracy_score(y_test, rf_pred)\n",
    "print(f\"Acurácia: {rf_accuracy:.4f}\")\n",
    "print(\"\\nRelatório de Classificação:\")\n",
    "print(classification_report(y_test, rf_pred))\n",
    "sns.heatmap(confusion_matrix(y_test, rf_pred), annot=True, fmt='d', cmap='Blues')\n",
    "plt.title(\"Matriz de Confusão - Random Forest\")\n",
    "plt.show()"
   ]
  },
  {
   "cell_type": "markdown",
   "id": "19d114ab-ad79-4950-b85c-b0cb54b97220",
   "metadata": {},
   "source": [
    "### Segundo algoritmo"
   ]
  },
  {
   "cell_type": "code",
   "execution_count": 12,
   "id": "cc4a14c2-72d3-4fc6-b9fa-e9cc399e700b",
   "metadata": {},
   "outputs": [],
   "source": [
    "# Criar o classificador\n",
    "lr_model = LogisticRegression(random_state=42, class_weight='balanced', max_iter=1000)"
   ]
  },
  {
   "cell_type": "code",
   "execution_count": 13,
   "id": "71f745f1-07c1-4d88-9dbb-ebd9204f4191",
   "metadata": {},
   "outputs": [
    {
     "name": "stdout",
     "output_type": "stream",
     "text": [
      "Treinando a Regressão Logística...\n",
      "Treinamento concluído.\n"
     ]
    }
   ],
   "source": [
    "# Treinar o modelo\n",
    "print(\"Treinando a Regressão Logística...\")\n",
    "lr_model.fit(X_train, y_train)\n",
    "print(\"Treinamento concluído.\")"
   ]
  },
  {
   "cell_type": "code",
   "execution_count": 14,
   "id": "46aa6607-7ccd-4a4c-bea7-a5f86da57508",
   "metadata": {},
   "outputs": [],
   "source": [
    "# Predizer o modelo\n",
    "lr_pred = lr_model.predict(X_test)"
   ]
  },
  {
   "cell_type": "code",
   "execution_count": 15,
   "id": "3c3b6568-a440-4931-be68-81ac79725249",
   "metadata": {},
   "outputs": [
    {
     "name": "stdout",
     "output_type": "stream",
     "text": [
      "\n",
      "--- Resultados da Regressão Logística ---\n",
      "Acurácia: 0.7575\n",
      "\n",
      "Relatório de Classificação:\n",
      "              precision    recall  f1-score   support\n",
      "\n",
      "           0       1.00      0.76      0.86      9850\n",
      "           1       0.06      0.85      0.11       175\n",
      "\n",
      "    accuracy                           0.76     10025\n",
      "   macro avg       0.53      0.80      0.48     10025\n",
      "weighted avg       0.98      0.76      0.85     10025\n",
      "\n"
     ]
    }
   ],
   "source": [
    "# Avaliar o modelo\n",
    "print(\"\\n--- Resultados da Regressão Logística ---\")\n",
    "lr_accuracy = accuracy_score(y_test, lr_pred)\n",
    "print(f\"Acurácia: {lr_accuracy:.4f}\")\n",
    "print(\"\\nRelatório de Classificação:\")\n",
    "print(classification_report(y_test, lr_pred))"
   ]
  },
  {
   "cell_type": "markdown",
   "id": "49813022-4f61-4f5b-870c-36776b66e532",
   "metadata": {},
   "source": [
    "### Terceiro algoritmo"
   ]
  },
  {
   "cell_type": "code",
   "execution_count": 16,
   "id": "f4d8e487-3030-4874-9846-7faba5ecde0b",
   "metadata": {},
   "outputs": [],
   "source": [
    "# Criar o classificador\n",
    "from sklearn.ensemble import GradientBoostingClassifier\n",
    "gb_model = GradientBoostingClassifier(n_estimators=100, random_state=42)"
   ]
  },
  {
   "cell_type": "code",
   "execution_count": 17,
   "id": "56cbadf2-f6ea-47b4-9cc7-c1e0b9aa7647",
   "metadata": {},
   "outputs": [
    {
     "name": "stdout",
     "output_type": "stream",
     "text": [
      "Treinando o Gradient Boosting... (Isso é bem mais rápido que o SVM)\n",
      "Treinamento concluído.\n"
     ]
    }
   ],
   "source": [
    "# Treinar o modelo\n",
    "print(\"Treinando o Gradient Boosting... (Isso é bem mais rápido que o SVM)\")\n",
    "gb_model.fit(X_train, y_train)\n",
    "print(\"Treinamento concluído.\")"
   ]
  },
  {
   "cell_type": "code",
   "execution_count": 18,
   "id": "eab9ae0a-4027-4610-83ae-5b0a69d07d1f",
   "metadata": {},
   "outputs": [],
   "source": [
    "# Predizer o modelo\n",
    "gb_pred = gb_model.predict(X_test)"
   ]
  },
  {
   "cell_type": "code",
   "execution_count": 19,
   "id": "af4a6f77-6670-4c89-bdb0-e1bb70b47f61",
   "metadata": {},
   "outputs": [
    {
     "name": "stdout",
     "output_type": "stream",
     "text": [
      "\n",
      "--- Resultados do Gradient Boosting ---\n",
      "Acurácia: 0.9821\n",
      "\n",
      "Relatório de Classificação:\n",
      "              precision    recall  f1-score   support\n",
      "\n",
      "           0       0.99      1.00      0.99      9850\n",
      "           1       0.47      0.19      0.27       175\n",
      "\n",
      "    accuracy                           0.98     10025\n",
      "   macro avg       0.73      0.59      0.63     10025\n",
      "weighted avg       0.98      0.98      0.98     10025\n",
      "\n"
     ]
    }
   ],
   "source": [
    "# Avaliar o modelo\n",
    "print(\"\\n--- Resultados do Gradient Boosting ---\")\n",
    "gb_accuracy = accuracy_score(y_test, gb_pred)\n",
    "print(f\"Acurácia: {gb_accuracy:.4f}\")\n",
    "print(\"\\nRelatório de Classificação:\")\n",
    "print(classification_report(y_test, gb_pred))"
   ]
  },
  {
   "cell_type": "markdown",
   "id": "c4a46560-2de8-4108-9ea9-5b09f1e578fe",
   "metadata": {},
   "source": [
    "## Comparar os resultados obtidos pelos algoritmos"
   ]
  },
  {
   "cell_type": "code",
   "execution_count": 20,
   "id": "f1e9809f-8436-4001-afec-c216fd0952ea",
   "metadata": {},
   "outputs": [
    {
     "name": "stdout",
     "output_type": "stream",
     "text": [
      "--- Comparação dos Modelos de Classificação ---\n",
      "                Modelo  Acurácia  Recall (classe 1)  Precision (classe 1)\n",
      "0        Random Forest    0.9822             0.1943                0.4789\n",
      "1  Logistic Regression    0.7575             0.8457                0.0580\n",
      "2    Gradient Boosting    0.9821             0.1886                0.4714\n"
     ]
    },
    {
     "data": {
      "image/png": "[encoded data removed]",
      "text/plain": [
       "<Figure size 1000x600 with 1 Axes>"
      ]
     },
     "metadata": {},
     "output_type": "display_data"
    }
   ],
   "source": [
    "# comparar\n",
    "# Célula '# comparar'\n",
    "\n",
    "# Coletar as métricas para a tabela de comparação\n",
    "rf_recall = recall_score(y_test, rf_pred, pos_label=1)\n",
    "rf_precision = precision_score(y_test, rf_pred, pos_label=1)\n",
    "\n",
    "lr_recall = recall_score(y_test, lr_pred, pos_label=1)\n",
    "lr_precision = precision_score(y_test, lr_pred, pos_label=1)\n",
    "\n",
    "gb_recall = recall_score(y_test, gb_pred, pos_label=1)\n",
    "gb_precision = precision_score(y_test, gb_pred, pos_label=1)\n",
    "\n",
    "# Criar o DataFrame de resultados\n",
    "resultados = {\n",
    "    'Modelo': ['Random Forest', 'Logistic Regression', 'Gradient Boosting'],\n",
    "    'Acurácia': [rf_accuracy, lr_accuracy, gb_accuracy],\n",
    "    'Recall (classe 1)': [rf_recall, lr_recall, gb_recall],\n",
    "    'Precision (classe 1)': [rf_precision, lr_precision, gb_precision]\n",
    "}\n",
    "\n",
    "df_resultados = pd.DataFrame(resultados).round(4) # .round(4) para arredondar as casas decimais\n",
    "\n",
    "print(\"--- Comparação dos Modelos de Classificação ---\")\n",
    "print(df_resultados)\n",
    "\n",
    "# Visualizar o Recall, que é a nossa métrica mais importante\n",
    "plt.figure(figsize=(10, 6))\n",
    "sns.barplot(x='Modelo', y='Recall (classe 1)', data=df_resultados)\n",
    "plt.title('Comparação do Recall (Capacidade de encontrar pacientes com DCNT)')\n",
    "plt.ylabel('Recall da Classe 1 (DCNT)')\n",
    "plt.show()"
   ]
  },
  {
   "cell_type": "markdown",
   "id": "b69424ff-b31c-4339-a7cf-2d1d5ef347cc",
   "metadata": {},
   "source": [
    "## Resultados obtidos\n",
    "\n",
    "Apresentar de forma descritiva e em gráficos respondendo as questões solicitadas pela UNIMED"
   ]
  },
  {
   "cell_type": "code",
   "execution_count": null,
   "id": "e2dfadc0-a1de-4738-a6c0-0052688eeeaf",
   "metadata": {},
   "outputs": [],
   "source": []
  }
 ],
 "metadata": {
  "kernelspec": {
   "display_name": "Python 3 (ipykernel)",
   "language": "python",
   "name": "python3"
  },
  "language_info": {
   "codemirror_mode": {
    "name": "ipython",
    "version": 3
   },
   "file_extension": ".py",
   "mimetype": "text/x-python",
   "name": "python",
   "nbconvert_exporter": "python",
   "pygments_lexer": "ipython3",
   "version": "3.12.3"
  }
 },
 "nbformat": 4,
 "nbformat_minor": 5
}
