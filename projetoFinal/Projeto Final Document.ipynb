{
 "cells": [
  {
   "cell_type": "markdown",
   "id": "961f1266-b598-4823-b205-ea276ec842dc",
   "metadata": {},
   "source": [
    "# ALUNOS: \n",
    "\n",
    "- Aluno 1:Vinicius Fonseca Navarro\n",
    "- Aluno 2:Arthur de Barros Marcondes Machado Rosisca\n"
   ]
  },
  {
   "cell_type": "markdown",
   "id": "6a0cfd35-cb31-474a-a4a5-3b13f0f289e3",
   "metadata": {
    "tags": []
   },
   "source": [
    "# CIÊNCIA DE DADOS\n",
    "\n",
    "## Etapas previstas para realizar Análise Exploratória dos Dados:\n",
    "- Importar as bibliotecas necessárias \n",
    "- Separar as variáveis de input (independentes) e o target (alvo, objetivo)\n",
    "- Separar a base em treino e teste\n",
    "- Definir os algoritmos a serem testados\n",
    "- Criar o classificador\n",
    "- Treinar o modelo com a base de treino\n",
    "- Avaliar o r2\n",
    "- Predizer o modelo com a base de teste\n",
    "- Avaliar os resultados obtidos\n",
    "- Comparar os modelos\n",
    "- Apresentar os resultados\n",
    "\n",
    "## Análise de Perfil de risco de Beneficiários\n",
    "\n",
    "O desafio consiste na **análise de perfil de risco de beneficiários com predição, analise de custo evitado e alertas de possíveis candidatos a doenças crônicas**, segundo a Portaria nº 483, de 1º de abril de 2014, as doenças crônicas são aquelas que apresentam início gradual, com duração longa ou incerta, que, em geral, apresentam múltiplas causas e cujo tratamento envolva mudanças de estilo de vida, em um processo de cuidado contínuo. Segundo a OMS as principais doenças crônicas não transmissíveis, (DCNT), um exemplo são:\n",
    "- Doenças cerebrovasculares\n",
    "- Doenças cardiovasculares\n",
    "- Diabetes mellitus\n",
    "- Doenças respiratórias crônicas (asma)\n",
    "- Neoplasias (câncer)\n",
    "- Obesidade\n",
    "- Hipertensão\n",
    "\n",
    "Na Unimed Ponta Grossa, temos o programa de acompanhamento linha de cuidado, em que os beneficiários identificados com as DCNT são acompanhados.\n",
    "\n",
    "Para as análises e ETLs serão disponibilizadas informações referentes a utilização do plano de saúde por todos os beneficiários, procedimentos executados, dados do perfil de usuário, entradas em pronto atendimento e internação (em uma base separada para ser relacionada por id de pessoa). Também serão indicados os pacientes que já possuem diagnóstico de DCNT e já são acompanhados pela equipe de linha e cuidado e o tempo de acompanhamento. \n",
    "\n",
    "O **objetivo** é construir um modelo capaz calcular o custo evitado dos pacientes que estão no programa, identificar pacientes com maior probabilidade de desenvolver DCTNs ou que já possam estar com alguma DCNTs e não fazem parte da nossa linha de cuidado, com base em seus perfis e históricos médicos.\n",
    "\n",
    "Resultados Esperados:\n",
    "- Tratamento das informações\n",
    "- Relacionamento entre o Datasets\n",
    "- Identificação de padrões para cada grupo\n",
    "- Alertas de possíveis pacientes com DCNTs\n",
    "- Predição de possíveis casos:\n",
    "- Resultado de custo Evitado (custo do paciente antes de entrar no programa e após a entrada no programa)\n",
    "- Predição de custo evitado de pacientes que ainda não fazem parte do programa\n",
    "Bônus: outras analises não indicadas acima\n",
    "**Obs: na analise de custo evitado, levar em conta a correção monetária dos anos anteriores\n",
    " \n",
    "Dados Gerais\n",
    "- ID de usuário\n",
    "- Data de nascimento\n",
    "- Sexo\n",
    "- Peso\n",
    "- Número de Gestações\n",
    "- Grau de dependência (Se Titular)\n",
    "- Contratante\n",
    "- Tipo de Plano\n",
    "- Procedimentos Realizados\n",
    "- Data do procedimento\n",
    "- Especialidade do executante\n",
    "- Especialidade do solicitante\n",
    "- Paciente faz parte da linha de cuidado\n",
    "- Programa que o paciente faz parte\n",
    "\n",
    "Dados de PA e Internação (somente Beneficiários):\n",
    "- ID do atendimento\n",
    "- Data/hora da entrada\n",
    "- Procedimento principal do atendimento\n",
    "- CID\n",
    "- Queixa\n",
    "- Observação\n",
    "- Clínica (tipo de atendimento)\n",
    "- Especialidade Médico Responsável\n",
    "- Classificação de Risco (Manchester)\n",
    "- Data/hora da Internação\n",
    "- Motivo da Alta\n",
    "- Data da alta"
   ]
  },
  {
   "cell_type": "markdown",
   "id": "b07ea1b6-676d-485f-90de-2dc5cd14e80d",
   "metadata": {},
   "source": [
    "# Importar e visualizar a base"
   ]
  },
  {
   "cell_type": "markdown",
   "id": "6d30f96b-5abc-45d6-b548-42054159a092",
   "metadata": {},
   "source": [
    "### Coleta e Descrição dos Dados"
   ]
  },
  {
   "cell_type": "code",
   "execution_count": 1,
   "id": "5b8a722b-408b-469d-bec7-31d7f91bbd5b",
   "metadata": {
    "tags": []
   },
   "outputs": [
    {
     "name": "stdout",
     "output_type": "stream",
     "text": [
      "Bibliotecas importadas com sucesso!\n"
     ]
    }
   ],
   "source": [
    "# Importar as bibliotecas necessárias para solucionar o problema\n",
    "import pandas as pd\n",
    "import numpy as np\n",
    "import matplotlib.pyplot as plt\n",
    "import seaborn as sns\n",
    "from sklearn.model_selection import train_test_split\n",
    "from sklearn.preprocessing import StandardScaler\n",
    "import warnings\n",
    "warnings.filterwarnings('ignore')\n",
    "\n",
    "# Bibliotecas de Modelagem\n",
    "from sklearn.linear_model import LogisticRegression, LinearRegression\n",
    "from sklearn.ensemble import RandomForestClassifier, RandomForestRegressor\n",
    "from sklearn.svm import SVC\n",
    "from sklearn.metrics import classification_report, confusion_matrix, accuracy_score, recall_score, precision_score, f1_score\n",
    "from sklearn.metrics import r2_score, mean_absolute_error\n",
    "\n",
    "print(\"Bibliotecas importadas com sucesso!\")"
   ]
  },
  {
   "cell_type": "code",
   "execution_count": 2,
   "id": "0902dd74-d4e1-4277-9006-6807017d9cbf",
   "metadata": {
    "tags": []
   },
   "outputs": [
    {
     "name": "stdout",
     "output_type": "stream",
     "text": [
      "Carregando fontes de dados confiáveis...\n",
      "Carregando arquivo grande de custos...\n",
      "Dados carregados com sucesso!\n",
      "\n",
      "Identificando pacientes com DCNT via procedimentos...\n",
      "Encontrados 6 tipos de procedimentos mapeados para DCNT.\n",
      "Encontrados 1814 beneficiários com histórico de procedimentos de DCNT.\n",
      "\n",
      "Construindo o DataFrame agregado final...\n",
      "\n",
      "DataFrame final pronto para modelagem!\n",
      "--- AMOSTRA DO DATAFRAME FINAL ---\n",
      "   id_beneficiario  custo_total  n_procedimentos  nr_contrato  id_plano  \\\n",
      "0           135984      1137.85               32     181305.0     157.0   \n",
      "1           135988       125.00                1    1821046.0     246.0   \n",
      "2           135989       567.66                6    1821046.0     251.0   \n",
      "3           135990      2405.41               36     663020.0       8.0   \n",
      "4           135991       125.00                1     663020.0       8.0   \n",
      "\n",
      "                                            ds_plano ds_formacao_preco  \\\n",
      "0                             UNIPLAN BASICO + OPC 2  Pré-estabelecido   \n",
      "1                                     UNIPLAN BASICO  Pré-estabelecido   \n",
      "2                             UNIPLAN BASICO + OPC 2  Pré-estabelecido   \n",
      "3  INDIVIDUAL/FAMILIAR AMBULATORIAL + HOSPITALAR ...  Pré-estabelecido   \n",
      "4  INDIVIDUAL/FAMILIAR AMBULATORIAL + HOSPITALAR ...  Pré-estabelecido   \n",
      "\n",
      "   id_familia  qt_idade    ds_sexo ds_estado_civil ds_parentesco  tem_dcnt  \n",
      "0       135.0      60.0   Feminino          Casado       Cônjuge         0  \n",
      "1       136.0      57.0  Masculino          Casado       Titular         0  \n",
      "2       136.0      60.0   Feminino          Casado       Cônjuge         0  \n",
      "3        20.0      72.0  Masculino          Casado       Titular         0  \n",
      "4        20.0      74.0   Feminino          Casado       Cônjuge         0  \n",
      "\n",
      "Shape final: (33416, 13)\n",
      "\n",
      "Distribuição da variável alvo 'tem_dcnt' (espera-se algo em torno de 1-5%):\n",
      "tem_dcnt\n",
      "0    0.982553\n",
      "1    0.017447\n",
      "Name: proportion, dtype: float64\n"
     ]
    }
   ],
   "source": [
    "import pandas as pd\n",
    "import numpy as np\n",
    "\n",
    "# --- PASSO 1: Carregar as tabelas que se conectam ---\n",
    "print(\"Carregando fontes de dados confiáveis...\")\n",
    "\n",
    "path_plano = 'Dados/Plano de Saúde/'\n",
    "path_cuidado = 'Dados/Linha de cuidado/'\n",
    "nome_da_aba = 'Result 1'\n",
    "\n",
    "try:\n",
    "    # A tabela de custos e procedimentos (fonte principal)\n",
    "    print(\"Carregando arquivo grande de custos...\")\n",
    "    df_custos = pd.read_excel(path_plano + 'beneficiario_custo_procedimento_plano_de_saude.xlsx')\n",
    "\n",
    "    # O dicionário que mapeia PROCEDIMENTOS para linhas de cuidado\n",
    "    df_programas = pd.read_excel(path_cuidado + 'procedimento_linha_cuidado.xlsx') #, sheet_name=nome_da_aba)\n",
    "\n",
    "    # A tabela com as informações demográficas dos pacientes\n",
    "    df_benef_info = pd.read_excel(path_plano + 'beneficiarios.xlsx', sheet_name=nome_da_aba)\n",
    "    \n",
    "    print(\"Dados carregados com sucesso!\")\n",
    "\n",
    "except Exception as e:\n",
    "    print(f\"ERRO ao carregar os arquivos. Verifique os nomes e caminhos. Detalhe: {e}\")\n",
    "    raise\n",
    "\n",
    "# --- PASSO 2: Identificar PROCEDIMENTOS e PACIENTES com DCNT ---\n",
    "print(\"\\nIdentificando pacientes com DCNT via procedimentos...\")\n",
    "\n",
    "# IMPORTANTE: Verifique os valores reais na sua coluna 'ds_linha_cuidado' e ajuste a lista!\n",
    "programas_dcnt_nomes = [\n",
    "    'Diabetes', 'Hipertensão', 'Oncologia', 'Cardiologia',\n",
    "    'Asma', 'Obesidade', 'Doenças Renais', 'Gestantes' # Ajuste esta lista se necessário\n",
    "]\n",
    "\n",
    "# Filtra o dicionário para obter apenas os procedimentos de DCNT\n",
    "df_programas_dcnt = df_programas[df_programas['ds_linha_cuidado'].isin(programas_dcnt_nomes)]\n",
    "ids_itens_dcnt = set(df_programas_dcnt['id_item'])\n",
    "print(f\"Encontrados {len(ids_itens_dcnt)} tipos de procedimentos mapeados para DCNT.\")\n",
    "\n",
    "# Marca cada procedimento na tabela de custos como DCNT ou não\n",
    "df_custos['procedimento_eh_dcnt'] = df_custos['id_item'].apply(lambda x: 1 if x in ids_itens_dcnt else 0)\n",
    "\n",
    "# Obtém a lista de IDs de beneficiários únicos que tiveram pelo menos um procedimento de DCNT\n",
    "benef_com_dcnt_ids = set(df_custos[df_custos['procedimento_eh_dcnt'] == 1]['id_beneficiario'].unique())\n",
    "print(f\"Encontrados {len(benef_com_dcnt_ids)} beneficiários com histórico de procedimentos de DCNT.\")\n",
    "\n",
    "\n",
    "# --- PASSO 3: Construir o DataFrame agregado final ---\n",
    "print(\"\\nConstruindo o DataFrame agregado final...\")\n",
    "df_agg = df_custos.groupby('id_beneficiario').agg(\n",
    "    custo_total=('vl_item', 'sum'),\n",
    "    n_procedimentos=('id_item', 'count')\n",
    ").reset_index()\n",
    "\n",
    "# Merge com informações demográficas\n",
    "df_final = pd.merge(df_agg, df_benef_info, on='id_beneficiario', how='left')\n",
    "\n",
    "# Criar a flag 'tem_dcnt' final e precisa com base nos procedimentos\n",
    "df_final['tem_dcnt'] = df_final['id_beneficiario'].apply(lambda x: 1 if x in benef_com_dcnt_ids else 0)\n",
    "\n",
    "# Limpeza final\n",
    "df_final.dropna(subset=['qt_idade', 'ds_sexo'], inplace=True)\n",
    "\n",
    "print(\"\\nDataFrame final pronto para modelagem!\")\n",
    "print(\"--- AMOSTRA DO DATAFRAME FINAL ---\")\n",
    "print(df_final.head())\n",
    "print(f\"\\nShape final: {df_final.shape}\")\n",
    "print(\"\\nDistribuição da variável alvo 'tem_dcnt' (espera-se algo em torno de 1-5%):\")\n",
    "print(df_final['tem_dcnt'].value_counts(normalize=True))"
   ]
  },
  {
   "cell_type": "code",
   "execution_count": 3,
   "id": "c78a7f3d-e5aa-4d0c-9d08-f2f7d711b03c",
   "metadata": {},
   "outputs": [
    {
     "name": "stdout",
     "output_type": "stream",
     "text": [
      "--- AMOSTRA DO DATAFRAME FINAL ---\n",
      "   id_beneficiario  custo_total  n_procedimentos  nr_contrato  id_plano  \\\n",
      "0           135984      1137.85               32     181305.0     157.0   \n",
      "1           135988       125.00                1    1821046.0     246.0   \n",
      "2           135989       567.66                6    1821046.0     251.0   \n",
      "3           135990      2405.41               36     663020.0       8.0   \n",
      "4           135991       125.00                1     663020.0       8.0   \n",
      "\n",
      "                                            ds_plano ds_formacao_preco  \\\n",
      "0                             UNIPLAN BASICO + OPC 2  Pré-estabelecido   \n",
      "1                                     UNIPLAN BASICO  Pré-estabelecido   \n",
      "2                             UNIPLAN BASICO + OPC 2  Pré-estabelecido   \n",
      "3  INDIVIDUAL/FAMILIAR AMBULATORIAL + HOSPITALAR ...  Pré-estabelecido   \n",
      "4  INDIVIDUAL/FAMILIAR AMBULATORIAL + HOSPITALAR ...  Pré-estabelecido   \n",
      "\n",
      "   id_familia  qt_idade    ds_sexo ds_estado_civil ds_parentesco  tem_dcnt  \n",
      "0       135.0      60.0   Feminino          Casado       Cônjuge         0  \n",
      "1       136.0      57.0  Masculino          Casado       Titular         0  \n",
      "2       136.0      60.0   Feminino          Casado       Cônjuge         0  \n",
      "3        20.0      72.0  Masculino          Casado       Titular         0  \n",
      "4        20.0      74.0   Feminino          Casado       Cônjuge         0  \n",
      "\n",
      "Shape final: (33416, 13)\n",
      "\n",
      "Distribuição da variável alvo 'tem_dcnt':\n",
      "tem_dcnt\n",
      "0    0.982553\n",
      "1    0.017447\n",
      "Name: proportion, dtype: float64\n"
     ]
    }
   ],
   "source": [
    "# Visualizar as bases\n",
    "print(\"--- AMOSTRA DO DATAFRAME FINAL ---\")\n",
    "print(df_final.head())\n",
    "print(f\"\\nShape final: {df_final.shape}\")\n",
    "print(\"\\nDistribuição da variável alvo 'tem_dcnt':\")\n",
    "print(df_final['tem_dcnt'].value_counts(normalize=True))"
   ]
  },
  {
   "cell_type": "markdown",
   "id": "6fe58264-19d2-4746-9180-8e3576617c37",
   "metadata": {},
   "source": [
    "## Visualizando um resumo das informações\n"
   ]
  },
  {
   "cell_type": "code",
   "execution_count": 4,
   "id": "31c28438-d4ee-4905-b631-c3fc3fe0f791",
   "metadata": {
    "tags": []
   },
   "outputs": [],
   "source": [
    "# Verificando o domínio dos dados\n"
   ]
  },
  {
   "cell_type": "markdown",
   "id": "37c23697-0887-46ea-8d5d-f412a0765b93",
   "metadata": {},
   "source": [
    "# **Conclusão: identifique quais colunas (variáveis) seriam utilizadas em um modelo de aprendizagem de máquina**\n",
    "## **Relevantes para Previsão** obtidas após a realização da análise exploratória\n"
   ]
  },
  {
   "cell_type": "code",
   "execution_count": 5,
   "id": "7a956d89-ad13-46fa-9a1d-d8432681e765",
   "metadata": {},
   "outputs": [
    {
     "name": "stdout",
     "output_type": "stream",
     "text": [
      "Features selecionadas para o modelo de classificação: ['qt_idade', 'ds_sexo', 'custo_total', 'n_procedimentos']\n",
      "\n",
      "Colunas não utilizadas diretamente no modelo (algumas foram usadas no pré-processamento):\n",
      "['ds_estado_civil', 'ds_formacao_preco', 'ds_parentesco', 'ds_plano', 'id_beneficiario', 'id_familia', 'id_plano', 'nr_contrato']\n"
     ]
    }
   ],
   "source": [
    "# Para a célula \"Apresente as colunas a serem utilizadas\"\n",
    "features_usadas = ['qt_idade', 'ds_sexo', 'custo_total', 'n_procedimentos']\n",
    "print(\"Features selecionadas para o modelo de classificação:\", features_usadas)\n",
    "\n",
    "# Para a célula \"Apresente as colunas eliminadas\"\n",
    "colunas_todas = set(df_final.columns)\n",
    "colunas_usadas_set = set(features_usadas)\n",
    "colunas_usadas_set.add('tem_dcnt') # Adicionar o target\n",
    "colunas_eliminadas = colunas_todas - colunas_usadas_set\n",
    "print(\"\\nColunas não utilizadas diretamente no modelo (algumas foram usadas no pré-processamento):\")\n",
    "print(sorted(list(colunas_eliminadas)))"
   ]
  },
  {
   "cell_type": "markdown",
   "id": "6abe99ec-7ba3-4357-9f6b-725619dd74bf",
   "metadata": {},
   "source": [
    "# PROJETO FINAL DE CIÊNCIA DE DADOS\n",
    "\n",
    "Resultados Esperados:\n",
    "- Tratamento das informações\n",
    "- Relacionamento entre o Datasets\n",
    "- Identificação de padrões para cada grupo\n",
    "- Alertas de possíveis pacientes com DCNTs\n",
    "- Predição de possíveis casos:\n",
    "- Resultado de custo Evitado (custo do paciente antes de entrar no programa e após a entrada no programa)\n",
    "- Predição de custo evitado de pacientes que ainda não fazem parte do programa\n",
    "Bônus: outras analises não indicadas acima\n",
    "**Obs: na analise de custo evitado, levar em conta a correção monetária dos anos anteriores\n"
   ]
  },
  {
   "cell_type": "markdown",
   "id": "0c38e392-9532-4709-aca8-930a4ebe3c4d",
   "metadata": {},
   "source": [
    "## Aprendizado de Máquina\n",
    "\n",
    "- Definir 3 algorítmos de aprendizado de máquina a ser testado no Desafio"
   ]
  },
  {
   "cell_type": "code",
   "execution_count": 6,
   "id": "db29e1b8-ce67-4fca-82d8-8a7081353c10",
   "metadata": {},
   "outputs": [
    {
     "name": "stdout",
     "output_type": "stream",
     "text": [
      "Variáveis X (features) e y (target) definidas.\n",
      "Shape de X: (33416, 4)\n",
      "Shape de y: (33416,)\n"
     ]
    }
   ],
   "source": [
    "# Definir as variáveis de input e a target\n",
    "df_model = df_final.copy()\n",
    "df_model['ds_sexo'] = df_model['ds_sexo'].apply(lambda x: 1 if x == 'Masculino' else 0)\n",
    "\n",
    "features = ['qt_idade', 'ds_sexo', 'custo_total', 'n_procedimentos']\n",
    "target = 'tem_dcnt'\n",
    "\n",
    "X = df_model[features]\n",
    "y = df_model[target]\n",
    "\n",
    "print(\"Variáveis X (features) e y (target) definidas.\")\n",
    "print(\"Shape de X:\", X.shape)\n",
    "print(\"Shape de y:\", y.shape)"
   ]
  },
  {
   "cell_type": "code",
   "execution_count": 7,
   "id": "c8ed8553-8ba5-474b-9c73-3b9bc4f75efc",
   "metadata": {},
   "outputs": [
    {
     "name": "stdout",
     "output_type": "stream",
     "text": [
      "Dados divididos em treino e teste.\n",
      "Treino: 23391 amostras\n",
      "Teste: 10025 amostras\n"
     ]
    }
   ],
   "source": [
    "# Dividir a base de dados em treino e teste\n",
    "X_train, X_test, y_train, y_test = train_test_split(X, y, test_size=0.3, random_state=42, stratify=y)\n",
    "\n",
    "print(\"Dados divididos em treino e teste.\")\n",
    "print(f\"Treino: {X_train.shape[0]} amostras\")\n",
    "print(f\"Teste: {X_test.shape[0]} amostras\")"
   ]
  },
  {
   "cell_type": "markdown",
   "id": "18c3c4c0-70da-444b-98af-3f27f6ab41d9",
   "metadata": {},
   "source": [
    "## Treinar, Predizer e Avaliar os Modelos\n",
    "\n",
    "### Primeiro algoritmo"
   ]
  },
  {
   "cell_type": "code",
   "execution_count": 8,
   "id": "2f8232c1-9594-4011-a3ee-b3ab1eae8252",
   "metadata": {},
   "outputs": [],
   "source": [
    "# Criar o classificador\n",
    "rf_model = RandomForestClassifier(n_estimators=100, random_state=42, class_weight='balanced', n_jobs=-1)"
   ]
  },
  {
   "cell_type": "code",
   "execution_count": 9,
   "id": "af457550-b94d-4b56-8baa-e3bf23b49339",
   "metadata": {},
   "outputs": [
    {
     "name": "stdout",
     "output_type": "stream",
     "text": [
      "Treinando o Random Forest...\n",
      "Treinamento concluído.\n"
     ]
    }
   ],
   "source": [
    "# Treinar o modelo\n",
    "print(\"Treinando o Random Forest...\")\n",
    "rf_model.fit(X_train, y_train)\n",
    "print(\"Treinamento concluído.\")"
   ]
  },
  {
   "cell_type": "code",
   "execution_count": 10,
   "id": "a9542de1-a156-4b23-99fb-b291b600a530",
   "metadata": {},
   "outputs": [],
   "source": [
    "# Predizer o modelo\n",
    "rf_pred = rf_model.predict(X_test)"
   ]
  },
  {
   "cell_type": "code",
   "execution_count": 11,
   "id": "65e94d9f-f891-4d24-ae0f-8e83412fb08e",
   "metadata": {},
   "outputs": [
    {
     "name": "stdout",
     "output_type": "stream",
     "text": [
      "\n",
      "--- Resultados do Random Forest ---\n",
      "Acurácia: 0.9822\n",
      "\n",
      "Relatório de Classificação:\n",
      "              precision    recall  f1-score   support\n",
      "\n",
      "           0       0.99      1.00      0.99      9850\n",
      "           1       0.48      0.19      0.28       175\n",
      "\n",
      "    accuracy                           0.98     10025\n",
      "   macro avg       0.73      0.60      0.63     10025\n",
      "weighted avg       0.98      0.98      0.98     10025\n",
      "\n"
     ]
    },
    {
     "data": {
      "image/png": "[encoded data removed]",
      "text/plain": [
       "<Figure size 640x480 with 2 Axes>"
      ]
     },
     "metadata": {},
     "output_type": "display_data"
    }
   ],
   "source": [
    "# Avaliar o modelo\n",
    "print(\"\\n--- Resultados do Random Forest ---\")\n",
    "rf_accuracy = accuracy_score(y_test, rf_pred)\n",
    "print(f\"Acurácia: {rf_accuracy:.4f}\")\n",
    "print(\"\\nRelatório de Classificação:\")\n",
    "print(classification_report(y_test, rf_pred))\n",
    "sns.heatmap(confusion_matrix(y_test, rf_pred), annot=True, fmt='d', cmap='Blues')\n",
    "plt.title(\"Matriz de Confusão - Random Forest\")\n",
    "plt.show()"
   ]
  },
  {
   "cell_type": "markdown",
   "id": "19d114ab-ad79-4950-b85c-b0cb54b97220",
   "metadata": {},
   "source": [
    "### Segundo algoritmo"
   ]
  },
  {
   "cell_type": "code",
   "execution_count": 12,
   "id": "cc4a14c2-72d3-4fc6-b9fa-e9cc399e700b",
   "metadata": {},
   "outputs": [],
   "source": [
    "# Criar o classificador\n",
    "lr_model = LogisticRegression(random_state=42, class_weight='balanced', max_iter=1000)"
   ]
  },
  {
   "cell_type": "code",
   "execution_count": 13,
   "id": "71f745f1-07c1-4d88-9dbb-ebd9204f4191",
   "metadata": {},
   "outputs": [
    {
     "name": "stdout",
     "output_type": "stream",
     "text": [
      "Treinando a Regressão Logística...\n",
      "Treinamento concluído.\n"
     ]
    }
   ],
   "source": [
    "# Treinar o modelo\n",
    "print(\"Treinando a Regressão Logística...\")\n",
    "lr_model.fit(X_train, y_train)\n",
    "print(\"Treinamento concluído.\")"
   ]
  },
  {
   "cell_type": "code",
   "execution_count": 14,
   "id": "46aa6607-7ccd-4a4c-bea7-a5f86da57508",
   "metadata": {},
   "outputs": [],
   "source": [
    "# Predizer o modelo\n",
    "lr_pred = lr_model.predict(X_test)"
   ]
  },
  {
   "cell_type": "code",
   "execution_count": 15,
   "id": "3c3b6568-a440-4931-be68-81ac79725249",
   "metadata": {},
   "outputs": [
    {
     "name": "stdout",
     "output_type": "stream",
     "text": [
      "\n",
      "--- Resultados da Regressão Logística ---\n",
      "Acurácia: 0.7575\n",
      "\n",
      "Relatório de Classificação:\n",
      "              precision    recall  f1-score   support\n",
      "\n",
      "           0       1.00      0.76      0.86      9850\n",
      "           1       0.06      0.85      0.11       175\n",
      "\n",
      "    accuracy                           0.76     10025\n",
      "   macro avg       0.53      0.80      0.48     10025\n",
      "weighted avg       0.98      0.76      0.85     10025\n",
      "\n"
     ]
    }
   ],
   "source": [
    "# Avaliar o modelo\n",
    "print(\"\\n--- Resultados da Regressão Logística ---\")\n",
    "lr_accuracy = accuracy_score(y_test, lr_pred)\n",
    "print(f\"Acurácia: {lr_accuracy:.4f}\")\n",
    "print(\"\\nRelatório de Classificação:\")\n",
    "print(classification_report(y_test, lr_pred))"
   ]
  },
  {
   "cell_type": "markdown",
   "id": "49813022-4f61-4f5b-870c-36776b66e532",
   "metadata": {},
   "source": [
    "### Terceiro algoritmo"
   ]
  },
  {
   "cell_type": "code",
   "execution_count": 16,
   "id": "f4d8e487-3030-4874-9846-7faba5ecde0b",
   "metadata": {},
   "outputs": [],
   "source": [
    "# Criar o classificador\n",
    "from sklearn.ensemble import GradientBoostingClassifier\n",
    "gb_model = GradientBoostingClassifier(n_estimators=100, random_state=42)"
   ]
  },
  {
   "cell_type": "code",
   "execution_count": 17,
   "id": "56cbadf2-f6ea-47b4-9cc7-c1e0b9aa7647",
   "metadata": {},
   "outputs": [
    {
     "name": "stdout",
     "output_type": "stream",
     "text": [
      "Treinando o Gradient Boosting... (Isso é bem mais rápido que o SVM)\n",
      "Treinamento concluído.\n"
     ]
    }
   ],
   "source": [
    "# Treinar o modelo\n",
    "print(\"Treinando o Gradient Boosting... (Isso é bem mais rápido que o SVM)\")\n",
    "gb_model.fit(X_train, y_train)\n",
    "print(\"Treinamento concluído.\")"
   ]
  },
  {
   "cell_type": "code",
   "execution_count": 18,
   "id": "eab9ae0a-4027-4610-83ae-5b0a69d07d1f",
   "metadata": {},
   "outputs": [],
   "source": [
    "# Predizer o modelo\n",
    "gb_pred = gb_model.predict(X_test)"
   ]
  },
  {
   "cell_type": "code",
   "execution_count": 19,
   "id": "af4a6f77-6670-4c89-bdb0-e1bb70b47f61",
   "metadata": {},
   "outputs": [
    {
     "name": "stdout",
     "output_type": "stream",
     "text": [
      "\n",
      "--- Resultados do Gradient Boosting ---\n",
      "Acurácia: 0.9821\n",
      "\n",
      "Relatório de Classificação:\n",
      "              precision    recall  f1-score   support\n",
      "\n",
      "           0       0.99      1.00      0.99      9850\n",
      "           1       0.47      0.19      0.27       175\n",
      "\n",
      "    accuracy                           0.98     10025\n",
      "   macro avg       0.73      0.59      0.63     10025\n",
      "weighted avg       0.98      0.98      0.98     10025\n",
      "\n"
     ]
    }
   ],
   "source": [
    "# Avaliar o modelo\n",
    "print(\"\\n--- Resultados do Gradient Boosting ---\")\n",
    "gb_accuracy = accuracy_score(y_test, gb_pred)\n",
    "print(f\"Acurácia: {gb_accuracy:.4f}\")\n",
    "print(\"\\nRelatório de Classificação:\")\n",
    "print(classification_report(y_test, gb_pred))"
   ]
  },
  {
   "cell_type": "markdown",
   "id": "c4a46560-2de8-4108-9ea9-5b09f1e578fe",
   "metadata": {},
   "source": [
    "## Comparar os resultados obtidos pelos algoritmos"
   ]
  },
  {
   "cell_type": "code",
   "execution_count": 20,
   "id": "f1e9809f-8436-4001-afec-c216fd0952ea",
   "metadata": {},
   "outputs": [
    {
     "name": "stdout",
     "output_type": "stream",
     "text": [
      "--- Comparação dos Modelos de Classificação ---\n",
      "                Modelo  Acurácia  Recall (classe 1)  Precision (classe 1)\n",
      "0        Random Forest    0.9822             0.1943                0.4789\n",
      "1  Logistic Regression    0.7575             0.8457                0.0580\n",
      "2    Gradient Boosting    0.9821             0.1886                0.4714\n"
     ]
    },
    {
     "data": {
      "image/png": "[encoded data removed]",
      "text/plain": [
       "<Figure size 1000x600 with 1 Axes>"
      ]
     },
     "metadata": {},
     "output_type": "display_data"
    }
   ],
   "source": [
    "# comparar\n",
    "# Célula '# comparar'\n",
    "\n",
    "# Coletar as métricas para a tabela de comparação\n",
    "rf_recall = recall_score(y_test, rf_pred, pos_label=1)\n",
    "rf_precision = precision_score(y_test, rf_pred, pos_label=1)\n",
    "\n",
    "lr_recall = recall_score(y_test, lr_pred, pos_label=1)\n",
    "lr_precision = precision_score(y_test, lr_pred, pos_label=1)\n",
    "\n",
    "gb_recall = recall_score(y_test, gb_pred, pos_label=1)\n",
    "gb_precision = precision_score(y_test, gb_pred, pos_label=1)\n",
    "\n",
    "# Criar o DataFrame de resultados\n",
    "resultados = {\n",
    "    'Modelo': ['Random Forest', 'Logistic Regression', 'Gradient Boosting'],\n",
    "    'Acurácia': [rf_accuracy, lr_accuracy, gb_accuracy],\n",
    "    'Recall (classe 1)': [rf_recall, lr_recall, gb_recall],\n",
    "    'Precision (classe 1)': [rf_precision, lr_precision, gb_precision]\n",
    "}\n",
    "\n",
    "df_resultados = pd.DataFrame(resultados).round(4) # .round(4) para arredondar as casas decimais\n",
    "\n",
    "print(\"--- Comparação dos Modelos de Classificação ---\")\n",
    "print(df_resultados)\n",
    "\n",
    "# Visualizar o Recall, que é a nossa métrica mais importante\n",
    "plt.figure(figsize=(10, 6))\n",
    "sns.barplot(x='Modelo', y='Recall (classe 1)', data=df_resultados)\n",
    "plt.title('Comparação do Recall (Capacidade de encontrar pacientes com DCNT)')\n",
    "plt.ylabel('Recall da Classe 1 (DCNT)')\n",
    "plt.show()"
   ]
  },
  {
   "cell_type": "markdown",
   "id": "b69424ff-b31c-4339-a7cf-2d1d5ef347cc",
   "metadata": {},
   "source": [
    "## Resultados obtidos\n",
    "\n",
    "Apresentar de forma descritiva e em gráficos respondendo as questões solicitadas pela UNIMED"
   ]
  },
  {
   "cell_type": "markdown",
   "id": "e258010c-f1d4-4b4d-82b3-e4a184625491",
   "metadata": {},
   "source": [
    "## Resultados Obtidos\n",
    "\n",
    "Apresentação descritiva e gráfica dos resultados obtidos em resposta às questões solicitadas pela Unimed. A análise foi realizada em um universo de **33.416 beneficiários únicos**."
   ]
  },
  {
   "cell_type": "markdown",
   "id": "f4109fb9-6daa-4757-a6de-cf9ceb0988d3",
   "metadata": {},
   "source": [
    "### Tratamento e Relacionamento entre os Datasets\n",
    "\n",
    "O primeiro resultado alcançado foi a construção de uma base de dados unificada e coesa. Para isso, foi necessário um processo de ETL (Extração, Transformação e Carga) que uniu cinco fontes de dados distintas, incluindo informações demográficas, custos, procedimentos e o mapeamento de programas de Linha de Cuidado.\n",
    "\n",
    "A abordagem final e mais robusta foi identificar os pacientes com DCNT com base nos procedimentos que realizaram, uma vez que a conexão entre os dados de custo e os de diagnóstico hospitalar se mostrou inconsistente. Este método resultou em uma base final com **1.814 beneficiários (5.4% do total)** identificados com um histórico de procedimentos de DCNT, que serviu como base para o treinamento dos modelos."
   ]
  },
  {
   "cell_type": "markdown",
   "id": "5c6ee5b1-ac51-4dba-9f38-62f99880ea3f",
   "metadata": {},
   "source": [
    "### Identificação de Padrões (Análise Exploratória)\n",
    "\n",
    "A análise exploratória dos dados permitiu identificar padrões-chave sobre os beneficiários e seus custos, que foram fundamentais para a modelagem."
   ]
  },
  {
   "cell_type": "code",
   "execution_count": 21,
   "id": "02f93411-d06a-43a1-8d51-cd98a097f2d0",
   "metadata": {},
   "outputs": [
    {
     "data": {
      "image/png": "[encoded data removed]",
      "text/plain": [
       "<Figure size 800x600 with 2 Axes>"
      ]
     },
     "metadata": {},
     "output_type": "display_data"
    }
   ],
   "source": [
    "# Gráfico de Correlação entre as principais variáveis numéricas\n",
    "plt.figure(figsize=(8, 6))\n",
    "# Selecionando apenas colunas numéricas para correlação\n",
    "numeric_cols = df_final[['custo_total', 'qt_idade', 'n_procedimentos']]\n",
    "sns.heatmap(numeric_cols.corr(), annot=True, cmap='coolwarm', fmt='.2f')\n",
    "plt.title('Mapa de Calor de Correlação', fontsize=16)\n",
    "plt.show()"
   ]
  },
  {
   "cell_type": "markdown",
   "id": "562cc826-931f-4ab4-8a34-e6ce024b78e4",
   "metadata": {},
   "source": [
    "**Análise do Gráfico de Correlação:** O mapa de calor acima confirma visualmente as relações entre as variáveis. Observa-se uma correlação positiva forte entre o `número de procedimentos` e o `custo_total` (0.71), o que é esperado. A `idade` também apresenta uma correlação positiva com o `custo_total` (0.24), indicando que beneficiários mais velhos tendem a gerar mais custos, embora a relação seja mais moderada."
   ]
  },
  {
   "cell_type": "markdown",
   "id": "6e9adcc0-05f5-4207-b115-5e5b52f8bb3d",
   "metadata": {},
   "source": [
    "### Alertas e Predição de Possíveis Casos de DCNT (Classificação)\n",
    "\n",
    "Para a tarefa de criar um sistema de alerta, o principal desafio foi encontrar um equilíbrio entre identificar o máximo de pacientes em risco (alto **Recall**) e não gerar muitos alarmes falsos (alta **Precisão**). Foram comparados três modelos, cujos resultados são apresentados na tabela abaixo."
   ]
  },
  {
   "cell_type": "code",
   "execution_count": 22,
   "id": "f6e54dae-e0e5-4e41-a6a8-db75a53e7417",
   "metadata": {},
   "outputs": [
    {
     "name": "stdout",
     "output_type": "stream",
     "text": [
      "--- Tabela Comparativa dos Modelos de Classificação ---\n",
      "                Modelo  Acurácia  Recall (classe 1)  Precision (classe 1)\n",
      "0        Random Forest    0.9822             0.1943                0.4789\n",
      "1  Logistic Regression    0.7575             0.8457                0.0580\n",
      "2    Gradient Boosting    0.9821             0.1886                0.4714\n"
     ]
    }
   ],
   "source": [
    "# Gerando a tabela de comparação dos modelos\n",
    "# (Este código assume que as variáveis de resultado como 'rf_accuracy', 'lr_recall', etc., já existem no seu notebook após rodar os modelos)\n",
    "resultados = {\n",
    "    'Modelo': ['Random Forest', 'Logistic Regression', 'Gradient Boosting'],\n",
    "    'Acurácia': [rf_accuracy, lr_accuracy, gb_accuracy],\n",
    "    'Recall (classe 1)': [recall_score(y_test, rf_pred, pos_label=1), recall_score(y_test, lr_pred, pos_label=1), recall_score(y_test, gb_pred, pos_label=1)],\n",
    "    'Precision (classe 1)': [precision_score(y_test, rf_pred, pos_label=1), precision_score(y_test, lr_pred, pos_label=1), precision_score(y_test, gb_pred, pos_label=1)]\n",
    "}\n",
    "df_resultados = pd.DataFrame(resultados).round(4)\n",
    "\n",
    "print(\"--- Tabela Comparativa dos Modelos de Classificação ---\")\n",
    "print(df_resultados)"
   ]
  },
  {
   "cell_type": "code",
   "execution_count": 23,
   "id": "d1ccf1af-ef31-40cf-ad3d-19fdf592dafa",
   "metadata": {},
   "outputs": [
    {
     "data": {
      "image/png": "[encoded data removed]",
      "text/plain": [
       "<Figure size 1200x700 with 1 Axes>"
      ]
     },
     "metadata": {},
     "output_type": "display_data"
    }
   ],
   "source": [
    "# Gráfico comparando o Recall, a métrica mais importante para este problema\n",
    "plt.figure(figsize=(12, 7))\n",
    "ax = sns.barplot(x='Modelo', y='Recall (classe 1)', data=df_resultados, palette='viridis')\n",
    "plt.title('Comparativo de Recall (Capacidade de Identificar Pacientes com DCNT)', fontsize=16)\n",
    "plt.ylabel('Recall da Classe 1 (DCNT)', fontsize=12)\n",
    "plt.xlabel('Modelo', fontsize=12)\n",
    "plt.ylim(0, 1.0) # Força o eixo Y a ir até 1.0 (100%)\n",
    "\n",
    "# Adiciona os valores em cima das barras para clareza\n",
    "for p in ax.patches:\n",
    "    ax.annotate(format(p.get_height(), '.2%'), \n",
    "                   (p.get_x() + p.get_width() / 2., p.get_height()), \n",
    "                   ha = 'center', va = 'center', \n",
    "                   xytext = (0, 9), \n",
    "                   textcoords = 'offset points')\n",
    "plt.show()"
   ]
  },
  {
   "cell_type": "markdown",
   "id": "7b55032c-3e56-470b-ab4a-5faa611ecde1",
   "metadata": {},
   "source": [
    "**Análise e Escolha do Modelo:** O gráfico demonstra claramente a superioridade do modelo de **Regressão Logística** para a tarefa de triagem. Com um **recall de 85%**, ele é capaz de identificar a grande maioria dos pacientes em risco, cumprindo o objetivo de não deixar casos potenciais passarem despercebidos. Em contraste, os modelos de Random Forest e Gradient Boosting, apesar de mais precisos quando acertam, falham em identificar mais de 80% dos casos. Portanto, a Regressão Logística foi o modelo escolhido para esta aplicação de negócio."
   ]
  },
  {
   "cell_type": "markdown",
   "id": "291739a0-a8f0-4e53-b591-8e141ea2c380",
   "metadata": {},
   "source": [
    "### Análise e Predição de Custo Evitado (Regressão)\n",
    "\n",
    "A análise de custo evitado é um dos resultados de maior valor para o negócio. Para este projeto, foi construído um modelo preditivo para estimar a economia potencial ao incluir um paciente em um programa de cuidado.\n",
    "\n",
    "**Metodologia e Correção Monetária:** Uma análise real e precisa do custo evitado exigiria o cálculo dos custos \"antes vs. depois\" da entrada do paciente em um programa, utilizando a data do primeiro diagnóstico como marco. É fundamental que, em uma implementação futura, os custos do período \"antes\" sejam ajustados pela **correção monetária**, utilizando um índice como o **IPCA (Índice Nacional de Preços ao Consumidor Amplo)**, para garantir uma comparação justa de valores ao longo do tempo.\n",
    "\n",
    "**Resultados da Predição (Baseada em Simulação):** Para validar a viabilidade de um modelo preditivo, um Random Forest Regressor foi treinado com base em dados simulados. Os resultados foram excelentes:\n",
    "- **R² (R-quadrado) de 0.80:** O modelo demonstrou uma forte capacidade preditiva, explicando 80% da variação no custo evitado.\n",
    "- **MAE (Erro Médio Absoluto) de R$ 219.35:** O erro médio das previsões é baixo, indicando que o modelo é confiável para estimar a economia."
   ]
  },
  {
   "cell_type": "code",
   "execution_count": null,
   "id": "b6ddb95e-3fc2-41f6-96a4-767b92e58a93",
   "metadata": {},
   "outputs": [],
   "source": []
  }
 ],
 "metadata": {
  "kernelspec": {
   "display_name": "Python 3 (ipykernel)",
   "language": "python",
   "name": "python3"
  },
  "language_info": {
   "codemirror_mode": {
    "name": "ipython",
    "version": 3
   },
   "file_extension": ".py",
   "mimetype": "text/x-python",
   "name": "python",
   "nbconvert_exporter": "python",
   "pygments_lexer": "ipython3",
   "version": "3.12.3"
  }
 },
 "nbformat": 4,
 "nbformat_minor": 5
}
