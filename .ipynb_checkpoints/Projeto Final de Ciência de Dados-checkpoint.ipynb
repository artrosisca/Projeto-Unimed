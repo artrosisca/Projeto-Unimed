{
 "cells": [
  {
   "cell_type": "markdown",
   "id": "961f1266-b598-4823-b205-ea276ec842dc",
   "metadata": {},
   "source": [
    "# ALUNOS: \n",
    "\n",
    "- Aluno 1:\n",
    "- Aluno 2:\n"
   ]
  },
  {
   "cell_type": "markdown",
   "id": "6a0cfd35-cb31-474a-a4a5-3b13f0f289e3",
   "metadata": {
    "tags": []
   },
   "source": [
    "# CIÊNCIA DE DADOS\n",
    "\n",
    "## Etapas previstas para realizar Análise Exploratória dos Dados:\n",
    "- Importar as bibliotecas necessárias \n",
    "- Separar as variáveis de input (independentes) e o target (alvo, objetivo)\n",
    "- Separar a base em treino e teste\n",
    "- Definir os algoritmos a serem testados\n",
    "- Criar o classificador\n",
    "- Treinar o modelo com a base de treino\n",
    "- Avaliar o r2\n",
    "- Predizer o modelo com a base de teste\n",
    "- Avaliar os resultados obtidos\n",
    "- Comparar os modelos\n",
    "- Apresentar os resultados\n",
    "\n",
    "## Análise de Perfil de risco de Beneficiários\n",
    "\n",
    "O desafio consiste na **análise de perfil de risco de beneficiários com predição, analise de custo evitado e alertas de possíveis candidatos a doenças crônicas**, segundo a Portaria nº 483, de 1º de abril de 2014, as doenças crônicas são aquelas que apresentam início gradual, com duração longa ou incerta, que, em geral, apresentam múltiplas causas e cujo tratamento envolva mudanças de estilo de vida, em um processo de cuidado contínuo. Segundo a OMS as principais doenças crônicas não transmissíveis, (DCNT), um exemplo são:\n",
    "- Doenças cerebrovasculares\n",
    "- Doenças cardiovasculares\n",
    "- Diabetes mellitus\n",
    "- Doenças respiratórias crônicas (asma)\n",
    "- Neoplasias (câncer)\n",
    "- Obesidade\n",
    "- Hipertensão\n",
    "\n",
    "Na Unimed Ponta Grossa, temos o programa de acompanhamento linha de cuidado, em que os beneficiários identificados com as DCNT são acompanhados.\n",
    "\n",
    "Para as análises e ETLs serão disponibilizadas informações referentes a utilização do plano de saúde por todos os beneficiários, procedimentos executados, dados do perfil de usuário, entradas em pronto atendimento e internação (em uma base separada para ser relacionada por id de pessoa). Também serão indicados os pacientes que já possuem diagnóstico de DCNT e já são acompanhados pela equipe de linha e cuidado e o tempo de acompanhamento. \n",
    "\n",
    "O **objetivo** é construir um modelo capaz calcular o custo evitado dos pacientes que estão no programa, identificar pacientes com maior probabilidade de desenvolver DCTNs ou que já possam estar com alguma DCNTs e não fazem parte da nossa linha de cuidado, com base em seus perfis e históricos médicos.\n",
    "\n",
    "Resultados Esperados:\n",
    "- Tratamento das informações\n",
    "- Relacionamento entre o Datasets\n",
    "- Identificação de padrões para cada grupo\n",
    "- Alertas de possíveis pacientes com DCNTs\n",
    "- Predição de possíveis casos:\n",
    "- Resultado de custo Evitado (custo do paciente antes de entrar no programa e após a entrada no programa)\n",
    "- Predição de custo evitado de pacientes que ainda não fazem parte do programa\n",
    "Bônus: outras analises não indicadas acima\n",
    "**Obs: na analise de custo evitado, levar em conta a correção monetária dos anos anteriores\n",
    " \n",
    "Dados Gerais\n",
    "- ID de usuário\n",
    "- Data de nascimento\n",
    "- Sexo\n",
    "- Peso\n",
    "- Número de Gestações\n",
    "- Grau de dependência (Se Titular)\n",
    "- Contratante\n",
    "- Tipo de Plano\n",
    "- Procedimentos Realizados\n",
    "- Data do procedimento\n",
    "- Especialidade do executante\n",
    "- Especialidade do solicitante\n",
    "- Paciente faz parte da linha de cuidado\n",
    "- Programa que o paciente faz parte\n",
    "\n",
    "Dados de PA e Internação (somente Beneficiários):\n",
    "- ID do atendimento\n",
    "- Data/hora da entrada\n",
    "- Procedimento principal do atendimento\n",
    "- CID\n",
    "- Queixa\n",
    "- Observação\n",
    "- Clínica (tipo de atendimento)\n",
    "- Especialidade Médico Responsável\n",
    "- Classificação de Risco (Manchester)\n",
    "- Data/hora da Internação\n",
    "- Motivo da Alta\n",
    "- Data da alta"
   ]
  },
  {
   "cell_type": "markdown",
   "id": "b07ea1b6-676d-485f-90de-2dc5cd14e80d",
   "metadata": {},
   "source": [
    "# Importar e visualizar a base"
   ]
  },
  {
   "cell_type": "code",
   "execution_count": 2,
   "id": "5b8a722b-408b-469d-bec7-31d7f91bbd5b",
   "metadata": {
    "tags": []
   },
   "outputs": [],
   "source": [
    "# Importar as bibliotecas necessárias para solucionar o probema\n",
    "\n"
   ]
  },
  {
   "cell_type": "code",
   "execution_count": 3,
   "id": "0902dd74-d4e1-4277-9006-6807017d9cbf",
   "metadata": {
    "tags": []
   },
   "outputs": [],
   "source": [
    "# Importar a base de dados\n",
    "\n"
   ]
  },
  {
   "cell_type": "code",
   "execution_count": 4,
   "id": "6c5313ea-bf45-473f-895f-2ec53fb999b9",
   "metadata": {
    "tags": []
   },
   "outputs": [],
   "source": [
    "# Visualizar as bases\n",
    "\n"
   ]
  },
  {
   "cell_type": "markdown",
   "id": "6fe58264-19d2-4746-9180-8e3576617c37",
   "metadata": {},
   "source": [
    "## Visualizando um resumo das informações\n"
   ]
  },
  {
   "cell_type": "code",
   "execution_count": 5,
   "id": "31c28438-d4ee-4905-b631-c3fc3fe0f791",
   "metadata": {
    "tags": []
   },
   "outputs": [],
   "source": [
    "# Verificando o domínio dos dados\n"
   ]
  },
  {
   "cell_type": "markdown",
   "id": "37c23697-0887-46ea-8d5d-f412a0765b93",
   "metadata": {},
   "source": [
    "# **Conclusão: identifique quais colunas (variáveis) seriam utilizadas em um modelo de aprendizagem de máquina**\n",
    "## **Relevantes para Previsão** obtidas após a realização da análise exploratória\n"
   ]
  },
  {
   "cell_type": "code",
   "execution_count": 12,
   "id": "4dcb924e-83d6-455e-85c7-f1d65961b7ae",
   "metadata": {
    "tags": []
   },
   "outputs": [],
   "source": [
    "# Apresente as colunas a sere utilizando na versão final do Projeto UNIMED\n"
   ]
  },
  {
   "cell_type": "code",
   "execution_count": null,
   "id": "6eed8e85-84b5-4020-b4e8-f572c794c5ab",
   "metadata": {},
   "outputs": [],
   "source": [
    "# Apresente as colunas eliminadas da versão final do Projeto UNIMED\n"
   ]
  },
  {
   "cell_type": "markdown",
   "id": "6abe99ec-7ba3-4357-9f6b-725619dd74bf",
   "metadata": {},
   "source": [
    "# PROJETO FINAL DE CIÊNCIA DE DADOS\n",
    "\n",
    "Resultados Esperados:\n",
    "- Tratamento das informações\n",
    "- Relacionamento entre o Datasets\n",
    "- Identificação de padrões para cada grupo\n",
    "- Alertas de possíveis pacientes com DCNTs\n",
    "- Predição de possíveis casos:\n",
    "- Resultado de custo Evitado (custo do paciente antes de entrar no programa e após a entrada no programa)\n",
    "- Predição de custo evitado de pacientes que ainda não fazem parte do programa\n",
    "Bônus: outras analises não indicadas acima\n",
    "**Obs: na analise de custo evitado, levar em conta a correção monetária dos anos anteriores\n"
   ]
  },
  {
   "cell_type": "markdown",
   "id": "0c38e392-9532-4709-aca8-930a4ebe3c4d",
   "metadata": {},
   "source": [
    "## Aprendizado de Máquina\n",
    "\n",
    "- Definir 3 algorítmos de aprendizado de máquina a ser testado no Desafio"
   ]
  },
  {
   "cell_type": "code",
   "execution_count": null,
   "id": "87da7390-e991-4a54-b937-270ec7ffa126",
   "metadata": {},
   "outputs": [],
   "source": [
    "# Importar as bibliotecas necessárias para o aprendizado\n",
    "\n"
   ]
  },
  {
   "cell_type": "code",
   "execution_count": null,
   "id": "db29e1b8-ce67-4fca-82d8-8a7081353c10",
   "metadata": {},
   "outputs": [],
   "source": [
    "# Definir as variáveis de input e a target\n",
    "\n"
   ]
  },
  {
   "cell_type": "code",
   "execution_count": null,
   "id": "c8ed8553-8ba5-474b-9c73-3b9bc4f75efc",
   "metadata": {},
   "outputs": [],
   "source": [
    "# Dividir a base de dados em treino e teste\n",
    "\n"
   ]
  },
  {
   "cell_type": "markdown",
   "id": "18c3c4c0-70da-444b-98af-3f27f6ab41d9",
   "metadata": {},
   "source": [
    "## Treinar, Predizer e Avaliar os Modelos\n",
    "\n",
    "### Primeiro algoritmo"
   ]
  },
  {
   "cell_type": "code",
   "execution_count": null,
   "id": "2f8232c1-9594-4011-a3ee-b3ab1eae8252",
   "metadata": {},
   "outputs": [],
   "source": [
    "# Criar o classificador\n"
   ]
  },
  {
   "cell_type": "code",
   "execution_count": null,
   "id": "af457550-b94d-4b56-8baa-e3bf23b49339",
   "metadata": {},
   "outputs": [],
   "source": [
    "# Treinar o modelo\n"
   ]
  },
  {
   "cell_type": "code",
   "execution_count": null,
   "id": "a9542de1-a156-4b23-99fb-b291b600a530",
   "metadata": {},
   "outputs": [],
   "source": [
    "# Predizer o modelo\n"
   ]
  },
  {
   "cell_type": "code",
   "execution_count": null,
   "id": "65e94d9f-f891-4d24-ae0f-8e83412fb08e",
   "metadata": {},
   "outputs": [],
   "source": [
    "# Avaliar o modelo\n"
   ]
  },
  {
   "cell_type": "markdown",
   "id": "19d114ab-ad79-4950-b85c-b0cb54b97220",
   "metadata": {},
   "source": [
    "### Segundo algoritmo"
   ]
  },
  {
   "cell_type": "code",
   "execution_count": null,
   "id": "cc4a14c2-72d3-4fc6-b9fa-e9cc399e700b",
   "metadata": {},
   "outputs": [],
   "source": [
    "# Criar o classificador\n"
   ]
  },
  {
   "cell_type": "code",
   "execution_count": null,
   "id": "71f745f1-07c1-4d88-9dbb-ebd9204f4191",
   "metadata": {},
   "outputs": [],
   "source": [
    "# Treinar o modelo\n"
   ]
  },
  {
   "cell_type": "code",
   "execution_count": null,
   "id": "46aa6607-7ccd-4a4c-bea7-a5f86da57508",
   "metadata": {},
   "outputs": [],
   "source": [
    "# Predizer o modelo\n"
   ]
  },
  {
   "cell_type": "code",
   "execution_count": null,
   "id": "3c3b6568-a440-4931-be68-81ac79725249",
   "metadata": {},
   "outputs": [],
   "source": [
    "# Avaliar o modelo\n"
   ]
  },
  {
   "cell_type": "markdown",
   "id": "49813022-4f61-4f5b-870c-36776b66e532",
   "metadata": {},
   "source": [
    "### Terceiro algoritmo"
   ]
  },
  {
   "cell_type": "code",
   "execution_count": null,
   "id": "f4d8e487-3030-4874-9846-7faba5ecde0b",
   "metadata": {},
   "outputs": [],
   "source": [
    "# Criar o classificador\n"
   ]
  },
  {
   "cell_type": "code",
   "execution_count": null,
   "id": "56cbadf2-f6ea-47b4-9cc7-c1e0b9aa7647",
   "metadata": {},
   "outputs": [],
   "source": [
    "# Treinar o modelo\n"
   ]
  },
  {
   "cell_type": "code",
   "execution_count": null,
   "id": "eab9ae0a-4027-4610-83ae-5b0a69d07d1f",
   "metadata": {},
   "outputs": [],
   "source": [
    "# Predizer o modelo\n"
   ]
  },
  {
   "cell_type": "code",
   "execution_count": null,
   "id": "af4a6f77-6670-4c89-bdb0-e1bb70b47f61",
   "metadata": {},
   "outputs": [],
   "source": [
    "# Avaliar o modelo\n"
   ]
  },
  {
   "cell_type": "markdown",
   "id": "c4a46560-2de8-4108-9ea9-5b09f1e578fe",
   "metadata": {},
   "source": [
    "## Comparar os resultados obtidos pelos algoritmos"
   ]
  },
  {
   "cell_type": "code",
   "execution_count": null,
   "id": "f1e9809f-8436-4001-afec-c216fd0952ea",
   "metadata": {},
   "outputs": [],
   "source": [
    "# comparar\n"
   ]
  },
  {
   "cell_type": "markdown",
   "id": "b69424ff-b31c-4339-a7cf-2d1d5ef347cc",
   "metadata": {},
   "source": [
    "## Resultados obtidos\n",
    "\n",
    "Apresentar de forma descritiva e em gráficos respondendo as questões solicitadas pela UNIMED"
   ]
  },
  {
   "cell_type": "code",
   "execution_count": null,
   "id": "e2dfadc0-a1de-4738-a6c0-0052688eeeaf",
   "metadata": {},
   "outputs": [],
   "source": []
  }
 ],
 "metadata": {
  "kernelspec": {
   "display_name": "Python 3 (ipykernel)",
   "language": "python",
   "name": "python3"
  },
  "language_info": {
   "codemirror_mode": {
    "name": "ipython",
    "version": 3
   },
   "file_extension": ".py",
   "mimetype": "text/x-python",
   "name": "python",
   "nbconvert_exporter": "python",
   "pygments_lexer": "ipython3",
   "version": "3.11.5"
  }
 },
 "nbformat": 4,
 "nbformat_minor": 5
}
